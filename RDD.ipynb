{
 "cells": [
  {
   "cell_type": "code",
   "execution_count": 41,
   "metadata": {},
   "outputs": [
    {
     "name": "stdout",
     "output_type": "stream",
     "text": [
      "['Brasil', 'Italia', 'Russia', 'Noruega', 'Espanha', 'Mexico']\n",
      "6\n"
     ]
    }
   ],
   "source": [
    "#Importando o Pyspark\n",
    "import pyspark\n",
    "from pyspark.sql import SparkSession\n",
    "\n",
    "spark = SparkSession.builder.master(\"local[1]\").appName(\"SparkByExamples.com\").getOrCreate()\n",
    "\n",
    "# RDD significa \"Resilient Distributed Dataset\", que em português significa Conjunto de Dados Distribuído e Resiliente.\n",
    "# Em resumo, o RDD é uma estrutura de dados poderosa que é particularmente útil para processamento distribuído em grandes conjuntos de dados. \n",
    "# O Pandas, por exemplo, é uma biblioteca poderosa para processamento de dados em uma única máquina.\n",
    "\n",
    "# Criando um RDD com 6 elementos, ou seja, transformaremos uma lista em Python para um RDD paralelizado \n",
    "paises = [\"Brasil\", \"Italia\", \"Russia\", \"Noruega\", \"Espanha\", \"Mexico\"]\n",
    "dadosrdd = spark.sparkContext.parallelize(paises)\n",
    "\n",
    "# Alguns exemplos de operações:\n",
    "# Exibindo a coleção criada em RDD, ou seja, todos os dados gravados no RDD sobre paises\n",
    "print(dadosrdd.collect())\n",
    "\n",
    "# Contando a quantidade de elementos presentes no RDD sobre paises\n",
    "print(dadosrdd.count())"
   ]
  },
  {
   "cell_type": "code",
   "execution_count": 43,
   "metadata": {},
   "outputs": [
    {
     "name": "stdout",
     "output_type": "stream",
     "text": [
      "Partições: 1\n",
      "Partições Paralelas: 5\n"
     ]
    }
   ],
   "source": [
    "# Criando outro RDD (dadosrdd2) usando a mesma lista de países, sem especificar o número de partições. \n",
    "# Em seguida, exibindo o número de partições no RDD usando o método getNumPartitions()\n",
    "dadosrdd2 = spark.sparkContext.parallelize(paises)\n",
    "print(\"Partições: \" + str(dadosrdd2.getNumPartitions()))\n",
    "\n",
    "# Criando um terceiro RDD (dadosrdd3) com a mesma lista de países, mas especificando que queremos forçar o RDD a ser particionado em cinco partições usando o parâmetro numSlices. \n",
    "# Em seguida, estamos exibindo o número de partições no RDD usando novamente o método getNumPartitions().\n",
    "dadosrdd3 = spark.sparkContext.parallelize(paises, 5)\n",
    "print(\"Partições Paralelas: \" + str(dadosrdd3.getNumPartitions()))"
   ]
  },
  {
   "cell_type": "code",
   "execution_count": 40,
   "metadata": {},
   "outputs": [
    {
     "name": "stdout",
     "output_type": "stream",
     "text": [
      "+--------------+------+---------+----------------+------------+--------------+------+--------------------+--------------------+---------------------------+----+----------------------------+-------+--------------------+------------------+-----+--------------------+--------------------+---------------------+----------+----------+-----------+--------+----------------+-----------------+--------------+-----------------+--------+--------------------+-----+---------+-----------+----------+---------------+--------------------+--------------------+----------------+------+-----------+------------+--------------+--------------+--------------------+----------------+-----------------+-----------------+-------------+------------+------------+------------+----------------------+----+------+---------+-----------------+---------------+-----------+-----------+--------+---------------+--------------------+\n",
      "|           GPA|Gender|breakfast|calories_chicken|calories_day|calories_scone|coffee|        comfort_food|comfort_food_reasons|comfort_food_reasons_coded9|cook|comfort_food_reasons_coded11|cuisine|        diet_current|diet_current_coded|drink|      eating_changes|eating_changes_coded|eating_changes_coded1|eating_out|employment|ethnic_food|exercise|father_education|father_profession|   fav_cuisine|fav_cuisine_coded|fav_food|      food_childhood|fries|fruit_day|grade_level|greek_food|healthy_feeling|        healthy_meal|          ideal_diet|ideal_diet_coded|income|indian_food|italian_food|life_rewarding|marital_status| meals_dinner_friend|mother_education|mother_profession|nutritional_check|on_off_campus|parents_cook|pay_meal_out|persian_food|self_perception_weight|soup|sports|thai_food|tortilla_calories|turkey_calories|type_sports|veggies_day|vitamins|waffle_calories|              weight|\n",
      "+--------------+------+---------+----------------+------------+--------------+------+--------------------+--------------------+---------------------------+----+----------------------------+-------+--------------------+------------------+-----+--------------------+--------------------+---------------------+----------+----------+-----------+--------+----------------+-----------------+--------------+-----------------+--------+--------------------+-----+---------+-----------+----------+---------------+--------------------+--------------------+----------------+------+-----------+------------+--------------+--------------+--------------------+----------------+-----------------+-----------------+-------------+------------+------------+------------+----------------------+----+------+---------+-----------------+---------------+-----------+-----------+--------+---------------+--------------------+\n",
      "|           2.4|     2|        1|             430|         nan|           315|     1|                none|we dont have comf...|                          9|   2|                           9|    nan|eat good and exer...|                 1|    1|         eat faster |                   1|                    1|         3|         3|          1|       1|               5|        profesor |Arabic cuisine|                3|       1|  rice  and chicken |    2|        5|          2|         5|              2|     looks not oily |      being healthy |               8|     5|          5|           5|             1|             1|rice, chicken,  soup|               1|       unemployed|                5|            1|           1|           2|           5|                     3|   1|     1|        1|             1165|            345| car racing|          5|       1|           1315|                 187|\n",
      "|         3.654|     1|        1|             610|           3|           420|     2|chocolate, chips,...|Stress, bored, anger|                          1|   3|                           1|      1|I eat about three...|                 2|    2|I eat out more th...|                   1|                    2|         2|         2|          4|       1|               2|   Self employed |       Italian|                1|       1|chicken and biscu...|    1|        4|          4|         4|              5|Grains, Veggies, ...|Try to eat 5-6 sm...|               3|     4|          4|           4|             1|             2|Pasta, steak, chi...|               4|        Nurse RN |                4|            1|           1|           4|           4|                     3|   1|     1|        2|              725|            690|Basketball |          4|       2|            900|                 155|\n",
      "|           3.3|     1|        1|             720|           4|           420|     2|frozen yogurt, pi...|     stress, sadness|                          1|   1|                           1|      3|toast and fruit f...|                 3|    1|sometimes choosin...|                   1|                    3|         2|         3|          5|       2|               2|    owns business|       italian|                1|       3|mac and cheese, p...|    1|        5|          3|         5|              6|usually includes ...|i would say my id...|               6|     6|          5|           5|             7|             2|chicken and rice ...|               2|    owns business|                4|            2|           1|           3|           5|                     6|   1|     2|        5|             1165|            500|       none|          5|       1|            900|I'm not answering...|\n",
      "|           3.2|     1|        1|             430|           3|           420|     2|Pizza, Mac and ch...|             Boredom|                          2|   2|                           2|      2|College diet, che...|                 2|    2|Accepting cheap a...|                   1|                    3|         2|         3|          5|       3|               2|        Mechanic |      Turkish |                3|       1|Beef stroganoff, ...|    2|        4|          4|         5|              7|Fresh fruits& veg...|Healthy, fresh ve...|               2|     6|          5|           5|             2|             2|    Grilled chicken |            null|             null|             null|         null|        null|        null|        null|                  null|null|  null|     null|             null|           null|       null|       null|    null|           null|                null|\n",
      "|Stuffed Shells|  null|     null|            null|        null|          null|  null|                null|                null|                       null|null|                        null|   null|                null|              null| null|                null|                null|                 null|      null|      null|       null|    null|            null|             null|          null|             null|    null|                null| null|     null|       null|      null|           null|                null|                null|            null|  null|       null|        null|          null|          null|                null|            null|             null|             null|         null|        null|        null|        null|                  null|null|  null|     null|             null|           null|       null|       null|    null|           null|                null|\n",
      "+--------------+------+---------+----------------+------------+--------------+------+--------------------+--------------------+---------------------------+----+----------------------------+-------+--------------------+------------------+-----+--------------------+--------------------+---------------------+----------+----------+-----------+--------+----------------+-----------------+--------------+-----------------+--------+--------------------+-----+---------+-----------+----------+---------------+--------------------+--------------------+----------------+------+-----------+------------+--------------+--------------+--------------------+----------------+-----------------+-----------------+-------------+------------+------------+------------+----------------------+----+------+---------+-----------------+---------------+-----------+-----------+--------+---------------+--------------------+\n",
      "only showing top 5 rows\n",
      "\n",
      "None\n"
     ]
    }
   ],
   "source": [
    "# Carregando um arquivo externo para um RDD\n",
    "food = spark.read.option(\"header\", \"true\").csv(\"D:/Python/Arquivo-de-Dados/food_coded.csv\")\n",
    "\n",
    "# Mostrando os 5 primeiros elementos do RDD, note que o cabeçalho também está disponível\n",
    "print(food.show(5))\n",
    "\n",
    "# Executando uma operação em cada elemento do RDD\n",
    "dadosrdd3.foreach(lambda x: print(x))\n",
    "\n",
    "# Encerrando a sessão Spark\n",
    "spark.stop()"
   ]
  }
 ],
 "metadata": {
  "kernelspec": {
   "display_name": "base",
   "language": "python",
   "name": "python3"
  },
  "language_info": {
   "codemirror_mode": {
    "name": "ipython",
    "version": 3
   },
   "file_extension": ".py",
   "mimetype": "text/x-python",
   "name": "python",
   "nbconvert_exporter": "python",
   "pygments_lexer": "ipython3",
   "version": "3.9.13"
  },
  "orig_nbformat": 4
 },
 "nbformat": 4,
 "nbformat_minor": 2
}
