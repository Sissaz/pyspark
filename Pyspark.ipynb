{
 "cells": [
  {
   "cell_type": "code",
   "execution_count": 37,
   "metadata": {},
   "outputs": [],
   "source": [
    "# Importando a Biblioteca\n",
    "from pyspark.sql import SparkSession\n",
    "from pyspark.sql.functions import col"
   ]
  },
  {
   "cell_type": "code",
   "execution_count": 38,
   "metadata": {},
   "outputs": [],
   "source": [
    "# Criando uma sessão do Spark\n",
    "spark = SparkSession.builder.appName(\"Leitura de CSV\").getOrCreate()"
   ]
  },
  {
   "cell_type": "code",
   "execution_count": 39,
   "metadata": {},
   "outputs": [],
   "source": [
    "# Carregando arquivo CSV em um DataFrame\n",
    "\n",
    "# inferSchema: Inferencia de dados | header: Cabeçalho primeira linha | sep: Separador dos dados\n",
    "# Quando o parâmetro inferSchema é definido como True, o PySpark examina os dados no arquivo CSV para tentar determinar o tipo de dados correto para cada coluna. \n",
    "\n",
    "df = spark.read.csv(r\"C:\\Users\\sicilia.giacomazza\\Desktop\\Estudos Python\\arquivo_geral.csv\", header=True, inferSchema=True, sep=\";\")"
   ]
  },
  {
   "cell_type": "code",
   "execution_count": 40,
   "metadata": {},
   "outputs": [
    {
     "name": "stdout",
     "output_type": "stream",
     "text": [
      "+------+------+-------------------+----------+---------------+-----------+----------------+\n",
      "|regiao|estado|               data|casosNovos|casosAcumulados|obitosNovos|obitosAcumulados|\n",
      "+------+------+-------------------+----------+---------------+-----------+----------------+\n",
      "| Norte|    RO|2020-01-30 00:00:00|         0|              0|          0|               0|\n",
      "| Norte|    RO|2020-01-31 00:00:00|         0|              0|          0|               0|\n",
      "| Norte|    RO|2020-02-01 00:00:00|         0|              0|          0|               0|\n",
      "| Norte|    RO|2020-02-02 00:00:00|         0|              0|          0|               0|\n",
      "| Norte|    RO|2020-02-03 00:00:00|         0|              0|          0|               0|\n",
      "| Norte|    RO|2020-02-04 00:00:00|         0|              0|          0|               0|\n",
      "| Norte|    RO|2020-02-05 00:00:00|         0|              0|          0|               0|\n",
      "| Norte|    RO|2020-02-06 00:00:00|         0|              0|          0|               0|\n",
      "| Norte|    RO|2020-02-07 00:00:00|         0|              0|          0|               0|\n",
      "| Norte|    RO|2020-02-08 00:00:00|         0|              0|          0|               0|\n",
      "+------+------+-------------------+----------+---------------+-----------+----------------+\n",
      "only showing top 10 rows\n",
      "\n"
     ]
    }
   ],
   "source": [
    "# Visualizando o conteudo do DataFrame usando o método show()\n",
    "df.show(10)"
   ]
  },
  {
   "cell_type": "code",
   "execution_count": 41,
   "metadata": {},
   "outputs": [
    {
     "name": "stdout",
     "output_type": "stream",
     "text": [
      "root\n",
      " |-- regiao: string (nullable = true)\n",
      " |-- estado: string (nullable = true)\n",
      " |-- data: timestamp (nullable = true)\n",
      " |-- casosNovos: integer (nullable = true)\n",
      " |-- casosAcumulados: integer (nullable = true)\n",
      " |-- obitosNovos: integer (nullable = true)\n",
      " |-- obitosAcumulados: integer (nullable = true)\n",
      "\n"
     ]
    }
   ],
   "source": [
    "# Visualizar o Schema das colunas\n",
    "df.printSchema()"
   ]
  },
  {
   "cell_type": "code",
   "execution_count": 42,
   "metadata": {},
   "outputs": [
    {
     "name": "stdout",
     "output_type": "stream",
     "text": [
      "+------+------+\n",
      "|regiao|estado|\n",
      "+------+------+\n",
      "|   Sul|    RS|\n",
      "|   Sul|    RS|\n",
      "|   Sul|    RS|\n",
      "+------+------+\n",
      "only showing top 3 rows\n",
      "\n",
      "+-------+------+\n",
      "| regiao|estado|\n",
      "+-------+------+\n",
      "|Sudeste|    ES|\n",
      "|Sudeste|    ES|\n",
      "|Sudeste|    ES|\n",
      "+-------+------+\n",
      "only showing top 3 rows\n",
      "\n",
      "+-------+------+\n",
      "| regiao|estado|\n",
      "+-------+------+\n",
      "|Sudeste|    MG|\n",
      "|Sudeste|    MG|\n",
      "|Sudeste|    MG|\n",
      "+-------+------+\n",
      "only showing top 3 rows\n",
      "\n"
     ]
    }
   ],
   "source": [
    "# Selecionando colunas e filtrando\n",
    "\n",
    "# Usando col\n",
    "df.select('regiao', 'estado').where(col('regiao') == 'Sul').where(col('estado') == 'RS').show(3)\n",
    "\n",
    "# Usando df\n",
    "df.select('regiao', 'estado').where((df.regiao == 'Sudeste') & (df.estado == 'ES')).show(3)\n",
    "df.select('regiao', 'estado').where(df.regiao.isin(['Sudeste', 'Sul'])).show(3)\n",
    "\n",
    "# *É possivel usar varios where"
   ]
  },
  {
   "cell_type": "code",
   "execution_count": 43,
   "metadata": {},
   "outputs": [
    {
     "name": "stdout",
     "output_type": "stream",
     "text": [
      "+------+------+\n",
      "|regiao|estado|\n",
      "+------+------+\n",
      "| Norte|    RO|\n",
      "| Norte|    RO|\n",
      "| Norte|    RO|\n",
      "| Norte|    RO|\n",
      "| Norte|    RO|\n",
      "+------+------+\n",
      "only showing top 5 rows\n",
      "\n",
      "+------+------+\n",
      "|regiao|estado|\n",
      "+------+------+\n",
      "| Norte|    RO|\n",
      "| Norte|    RO|\n",
      "| Norte|    RO|\n",
      "| Norte|    RO|\n",
      "| Norte|    RO|\n",
      "+------+------+\n",
      "only showing top 5 rows\n",
      "\n"
     ]
    }
   ],
   "source": [
    "# Storando em uma variavel para selecionar/filtrar depois\n",
    "colunas_selecionadas = [\"regiao\", \"estado\"]\n",
    "df.select(colunas_selecionadas).show(5)\n",
    "\n",
    "regiao_selecionadas = [\"Norte\", \"Nordeste\"]\n",
    "df.select(colunas_selecionadas).where(df.regiao.isin(regiao_selecionadas)).show(5)"
   ]
  }
 ],
 "metadata": {
  "kernelspec": {
   "display_name": "base",
   "language": "python",
   "name": "python3"
  },
  "language_info": {
   "codemirror_mode": {
    "name": "ipython",
    "version": 3
   },
   "file_extension": ".py",
   "mimetype": "text/x-python",
   "name": "python",
   "nbconvert_exporter": "python",
   "pygments_lexer": "ipython3",
   "version": "3.9.13"
  },
  "orig_nbformat": 4,
  "vscode": {
   "interpreter": {
    "hash": "bc19f6a5573b5a1cc7b627b9bf37ad9646d13145c313b0bf0d676a2bdfd280f6"
   }
  }
 },
 "nbformat": 4,
 "nbformat_minor": 2
}
